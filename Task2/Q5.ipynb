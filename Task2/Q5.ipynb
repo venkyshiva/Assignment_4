{
 "cells": [
  {
   "cell_type": "code",
   "execution_count": 1,
   "metadata": {},
   "outputs": [],
   "source": [
    "# For each group of four consecutive calendar months in s, find the date on which the highest\n",
    "# value occurred."
   ]
  },
  {
   "cell_type": "code",
   "execution_count": 19,
   "metadata": {},
   "outputs": [],
   "source": [
    "import pandas as pd\n",
    "import numpy as np\n",
    "from numpy.random import randint as rint"
   ]
  },
  {
   "cell_type": "code",
   "execution_count": 20,
   "metadata": {},
   "outputs": [],
   "source": [
    "lst = pd.bdate_range('2015-01-01', '2015-12-31')"
   ]
  },
  {
   "cell_type": "code",
   "execution_count": 21,
   "metadata": {},
   "outputs": [],
   "source": [
    "df = pd.DataFrame({'Date':lst})"
   ]
  },
  {
   "cell_type": "code",
   "execution_count": 22,
   "metadata": {},
   "outputs": [],
   "source": [
    "def get_day_name(series):\n",
    "    day_name = []\n",
    "    for date in series:\n",
    "        day_name.append(pd.Timestamp(date).day_name())\n",
    "    return day_name"
   ]
  },
  {
   "cell_type": "code",
   "execution_count": 23,
   "metadata": {},
   "outputs": [],
   "source": [
    "def get_month_name(series):\n",
    "    day_name = []\n",
    "    for date in series:\n",
    "        day_name.append(pd.Timestamp(date).month_name())\n",
    "    return day_name"
   ]
  },
  {
   "cell_type": "code",
   "execution_count": 24,
   "metadata": {},
   "outputs": [],
   "source": [
    "def get_random_int(series):\n",
    "    rand_int = []\n",
    "    for date in series:\n",
    "        rand_int.append(rint(1,100,1)[0])\n",
    "    return rand_int"
   ]
  },
  {
   "cell_type": "code",
   "execution_count": 25,
   "metadata": {},
   "outputs": [],
   "source": [
    "df['Day Name'] = get_day_name(df['Date'])"
   ]
  },
  {
   "cell_type": "code",
   "execution_count": 26,
   "metadata": {},
   "outputs": [],
   "source": [
    "#get_random_int(df['Date'])\n",
    "df['Month Name'] = get_month_name(df['Date'])"
   ]
  },
  {
   "cell_type": "code",
   "execution_count": 27,
   "metadata": {},
   "outputs": [],
   "source": [
    "df['Random Int'] = get_random_int(df['Date'])"
   ]
  },
  {
   "cell_type": "code",
   "execution_count": 59,
   "metadata": {},
   "outputs": [],
   "source": [
    "group_1 = df[(df['Month Name'] == 'January') | (df['Month Name'] == 'February') | (df['Month Name'] == 'March') | (df['Month Name'] == 'April')]\n",
    "group_2 = df[(df['Month Name'] == 'May') | (df['Month Name'] == 'June') | (df['Month Name'] == 'July') | (df['Month Name'] == 'August')]\n",
    "group_3 = df[(df['Month Name'] == 'September') | (df['Month Name'] == 'October') | (df['Month Name'] == 'November') | (df['Month Name'] == 'December')]"
   ]
  },
  {
   "cell_type": "code",
   "execution_count": 74,
   "metadata": {},
   "outputs": [
    {
     "data": {
      "text/plain": [
       "Date          2015-01-08 00:00:00\n",
       "Day Name                 Thursday\n",
       "Month Name                January\n",
       "Random Int                     98\n",
       "Name: 5, dtype: object"
      ]
     },
     "execution_count": 74,
     "metadata": {},
     "output_type": "execute_result"
    }
   ],
   "source": [
    "df.iloc[group_1['Random Int'].idxmax()]"
   ]
  },
  {
   "cell_type": "code",
   "execution_count": 75,
   "metadata": {},
   "outputs": [
    {
     "data": {
      "text/plain": [
       "Date          2015-06-24 00:00:00\n",
       "Day Name                Wednesday\n",
       "Month Name                   June\n",
       "Random Int                     99\n",
       "Name: 124, dtype: object"
      ]
     },
     "execution_count": 75,
     "metadata": {},
     "output_type": "execute_result"
    }
   ],
   "source": [
    "df.iloc[group_2['Random Int'].idxmax()]"
   ]
  },
  {
   "cell_type": "code",
   "execution_count": 76,
   "metadata": {},
   "outputs": [
    {
     "data": {
      "text/plain": [
       "Date          2015-09-07 00:00:00\n",
       "Day Name                   Monday\n",
       "Month Name              September\n",
       "Random Int                     99\n",
       "Name: 177, dtype: object"
      ]
     },
     "execution_count": 76,
     "metadata": {},
     "output_type": "execute_result"
    }
   ],
   "source": [
    "df.iloc[group_3['Random Int'].idxmax()]"
   ]
  },
  {
   "cell_type": "code",
   "execution_count": null,
   "metadata": {},
   "outputs": [],
   "source": []
  }
 ],
 "metadata": {
  "kernelspec": {
   "display_name": "Python 3",
   "language": "python",
   "name": "python3"
  },
  "language_info": {
   "codemirror_mode": {
    "name": "ipython",
    "version": 3
   },
   "file_extension": ".py",
   "mimetype": "text/x-python",
   "name": "python",
   "nbconvert_exporter": "python",
   "pygments_lexer": "ipython3",
   "version": "3.6.5"
  }
 },
 "nbformat": 4,
 "nbformat_minor": 2
}
